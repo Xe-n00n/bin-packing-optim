{
  "nbformat": 4,
  "nbformat_minor": 0,
  "metadata": {
    "colab": {
      "provenance": []
    },
    "kernelspec": {
      "name": "python3",
      "display_name": "Python 3"
    },
    "language_info": {
      "name": "python"
    }
  },
  "cells": [
    {
      "cell_type": "code",
      "execution_count": 1,
      "metadata": {
        "id": "01Aa7UYZz17c",
        "colab": {
          "base_uri": "https://localhost:8080/"
        },
        "outputId": "c3eb1bea-2290-435d-d55b-48911d2054da"
      },
      "outputs": [
        {
          "output_type": "stream",
          "name": "stdout",
          "text": [
            "[[2, 5, 3], [7, 3], [10], [8]]\n"
          ]
        }
      ],
      "source": [
        "def bin_packing(items, bin_capacity):\n",
        "    # Initialiser la meilleure solution et sa valeur\n",
        "    best_solution = None\n",
        "    best_solution_value = float('inf')\n",
        "\n",
        "    # Définir une fonction auxiliaire récursive pour la recherche par branchement et borne\n",
        "    def branch_and_bound(current_solution, remaining_items):\n",
        "        # Accéder aux variables best_solution et best_solution_value de la portée externe\n",
        "        nonlocal best_solution, best_solution_value\n",
        "\n",
        "        # S'il n'y a plus d'éléments à emballer\n",
        "        if not remaining_items:\n",
        "            # Si la solution actuelle est meilleure que la meilleure solution trouvée jusqu'à présent\n",
        "            if len(current_solution) < best_solution_value:\n",
        "                # Mettre à jour la meilleure solution et sa valeur\n",
        "                best_solution = current_solution\n",
        "                best_solution_value = len(current_solution)\n",
        "            return\n",
        "\n",
        "        # Sélectionner le premier élément parmi les éléments restants\n",
        "        item = remaining_items[0]\n",
        "        # Supprimer l'élément sélectionné des éléments restants\n",
        "        remaining_items = remaining_items[1:]\n",
        "\n",
        "        # Essayer de placer l'élément dans chaque bac\n",
        "        for bin_index, bin_contents in enumerate(current_solution):\n",
        "            # Si l'élément peut tenir dans le bac actuel\n",
        "            if sum(bin_contents) + item <= bin_capacity:\n",
        "                # Créer une nouvelle solution en ajoutant l'élément au bac actuel\n",
        "                new_solution = current_solution.copy()\n",
        "                new_solution[bin_index].append(item)\n",
        "                # Appeler récursivement branch_and_bound avec la nouvelle solution et les éléments restants\n",
        "                branch_and_bound(new_solution, remaining_items)\n",
        "\n",
        "        # Essayer de placer l'élément dans un nouveau bac\n",
        "        if sum([item]) <= bin_capacity:\n",
        "            # Créer une nouvelle solution en ajoutant l'élément à un nouveau bac\n",
        "            new_solution = current_solution.copy()\n",
        "            new_solution.append([item])\n",
        "            # Appeler récursivement branch_and_bound avec la nouvelle solution et les éléments restants\n",
        "            branch_and_bound(new_solution, remaining_items)\n",
        "\n",
        "    # Démarrer la recherche par branchement et borne avec une solution vide et tous les éléments\n",
        "    branch_and_bound([], items)\n",
        "    # Retourner la meilleure solution trouvée\n",
        "    return best_solution\n",
        "\n",
        "# Exemple d'utilisation\n",
        "items = [2, 5, 7, 10, 3, 8]\n",
        "bin_capacity = 10\n",
        "print(bin_packing(items, bin_capacity))\n"
      ]
    }
  ]
}